{
 "cells": [
  {
   "cell_type": "code",
   "execution_count": 14,
   "metadata": {},
   "outputs": [],
   "source": [
    "import ipywidgets as widgets\n",
    "import random\n",
    "import pandas as pd\n",
    "import plotly.graph_objects as go\n",
    "import sys\n",
    "import time\n",
    "from IPython.display import display\n",
    "\n",
    "import verdict\n",
    "\n",
    "verdict.set_loglevel('error')\n",
    "v = verdict.presto('presto')\n",
    "\n",
    "def to_dow_name(dow_number):\n",
    "    return {\n",
    "        0: 'Saturday',\n",
    "        1: 'Sunday',\n",
    "        2: 'Monday',\n",
    "        3: 'Tuesday',\n",
    "        4: 'Wednesday',\n",
    "        5: 'Thusday',\n",
    "        6: 'Friday',\n",
    "    }[dow_number]\n",
    "\n",
    "def replace_dow(frame):\n",
    "    if 'order_dow' not in frame.columns:\n",
    "        return frame\n",
    "    frame['order_dow'] = frame['order_dow'].apply(to_dow_name)\n",
    "    return frame\n",
    "\n",
    "def hsv_to_rgb(h, s, v):\n",
    "    # h = [0, 360), s = [0, 1], v = [0, 1]\n",
    "    c = (1 - abs(2*v - 1)) * s\n",
    "    x = c * (1 - abs((h/60)%2 - 1))\n",
    "    m = v - c/2\n",
    "    h_i = int(h/60)\n",
    "    r, g, b = {\n",
    "        0: [c, x, 0],\n",
    "        1: [x, c, 0],\n",
    "        2: [0, c, x],\n",
    "        3: [0, x, c],\n",
    "        4: [x, 0, c],\n",
    "        5: [c, 0, x],\n",
    "    }[h_i]\n",
    "    r, g, b = int((r+m)*255), int((g+m)*255), int((b+m)*255)\n",
    "    return (r, g, b)\n",
    "\n",
    "def rbg_to_str(rgb):\n",
    "    r, g, b = rgb\n",
    "    return f\"rgb({r}, {g}, {b})\"\n",
    "\n",
    "def gen_colors(num):\n",
    "    h_begin = 200.0\n",
    "    h_end = 39.0 + 360.0\n",
    "    l_begin = 0.3\n",
    "    l_end = 0.55\n",
    "    hsl = []\n",
    "    for i in range(num):\n",
    "        h = h_begin + (h_end - h_begin)*i/float(num-1)\n",
    "        h = h%360\n",
    "        l = l_begin + (l_end - l_begin)*i/float(num-1)\n",
    "        s = min(abs(h-260)/60.0*0.7+0.3, 1.0)\n",
    "        hsl.append((h, s, l))\n",
    "    colors = [rbg_to_str(hsv_to_rgb(a[0], a[1], a[2])) for a in hsl]\n",
    "    return colors\n",
    "\n",
    "def new_figure():\n",
    "    new_figure = go.FigureWidget(data=go.Bar())\n",
    "    new_figure.update_layout(template='none', height=400)\n",
    "    return new_figure\n",
    "\n",
    "def updateFigure(fig, df):\n",
    "    cols = df.columns\n",
    "    if len(cols) == 1:\n",
    "        fig.data[0].x = ['value']\n",
    "        fig.data[0].y = df[cols[0]]\n",
    "    else:\n",
    "        fig.data[0].x = df[cols[0]]\n",
    "        fig.data[0].y = df[cols[-1]]\n",
    "#     fig.data[0].marker.color = gen_colors(len(df.index))\n",
    "\n",
    "def sql(query):\n",
    "    fig = new_figure()\n",
    "    display(fig)\n",
    "    start = time.time()\n",
    "    result = v.sql(query)\n",
    "    if len(result.columns) == 1:\n",
    "        display(result)\n",
    "    else:\n",
    "        updateFigure(fig, result)\n",
    "    print(f\"elapsed time: {time.time() - start} seconds.\")\n",
    "    \n",
    "def presto_sql(query):\n",
    "    sql(\"bypass \" + query)\n",
    "\n",
    "def sql_stream(query):\n",
    "    fig = new_figure()\n",
    "    display(fig)\n",
    "    result_itr = v.sql_stream(query)\n",
    "    for i, result in enumerate(result_itr):\n",
    "        result = replace_dow(result)\n",
    "        if i < 5:\n",
    "            if len(result.columns) == 1:\n",
    "                display(result)\n",
    "            else:\n",
    "                updateFigure(fig, result)\n",
    "                time.sleep(0.4)\n",
    "        else:\n",
    "            break"
   ]
  },
  {
   "cell_type": "markdown",
   "metadata": {},
   "source": [
    "# No Verdict"
   ]
  },
  {
   "cell_type": "code",
   "execution_count": null,
   "metadata": {},
   "outputs": [
    {
     "data": {
      "application/vnd.jupyter.widget-view+json": {
       "model_id": "f1f535abb8bf4d28a51e19c7b5913163",
       "version_major": 2,
       "version_minor": 0
      },
      "text/plain": [
       "FigureWidget({\n",
       "    'data': [{'type': 'bar', 'uid': 'ed29eadb-83f7-46a7-8008-20735453bbe0'}], 'layout': {'heigh…"
      ]
     },
     "metadata": {},
     "output_type": "display_data"
    }
   ],
   "source": [
    "sql(\"\"\"bypass select department, count(*) c from hive.instacart.order_products where add_to_car_order = 25 \n",
    "       group by department order by department\"\"\")"
   ]
  },
  {
   "cell_type": "markdown",
   "metadata": {},
   "source": [
    "# With Verdict"
   ]
  },
  {
   "cell_type": "code",
   "execution_count": 19,
   "metadata": {},
   "outputs": [
    {
     "data": {
      "application/vnd.jupyter.widget-view+json": {
       "model_id": "0e203af65753441e92745ee85a77f135",
       "version_major": 2,
       "version_minor": 0
      },
      "text/plain": [
       "FigureWidget({\n",
       "    'data': [{'type': 'bar', 'uid': '9c85803b-50b4-41f1-87e4-4b08971d0408'}], 'layout': {'heigh…"
      ]
     },
     "metadata": {},
     "output_type": "display_data"
    }
   ],
   "source": [
    "sql_stream(\"\"\"select department, count(*) c from hive.instacart.order_products where add_to_car_order = 25 \n",
    "              group by department order by department\"\"\")"
   ]
  },
  {
   "cell_type": "code",
   "execution_count": null,
   "metadata": {},
   "outputs": [],
   "source": []
  }
 ],
 "metadata": {
  "kernelspec": {
   "display_name": "Python 3",
   "language": "python",
   "name": "python3"
  },
  "language_info": {
   "codemirror_mode": {
    "name": "ipython",
    "version": 3
   },
   "file_extension": ".py",
   "mimetype": "text/x-python",
   "name": "python",
   "nbconvert_exporter": "python",
   "pygments_lexer": "ipython3",
   "version": "3.7.4"
  }
 },
 "nbformat": 4,
 "nbformat_minor": 4
}
