{
 "cells": [
  {
   "cell_type": "code",
   "execution_count": 1,
   "metadata": {},
   "outputs": [],
   "source": [
    "import ipywidgets as widgets\n",
    "import pandas as pd\n",
    "import plotly.graph_objects as go\n",
    "import sys\n",
    "import time\n",
    "from IPython.display import display\n",
    "\n",
    "import verdict\n",
    "\n",
    "verdict.set_loglevel('error')\n",
    "v = verdict.presto('presto')\n",
    "\n",
    "\n",
    "def new_figure():\n",
    "    return go.FigureWidget(data=go.Bar())\n",
    "\n",
    "def updateFigure(fig, df):\n",
    "    cols = df.columns\n",
    "    if len(cols) == 1:\n",
    "        fig.data[0].x = ['value']\n",
    "        fig.data[0].y = df[cols[0]]\n",
    "    else:\n",
    "        fig.data[0].x = df.index\n",
    "        fig.data[0].y = df[cols[-1]]\n",
    "\n",
    "def sql(query):\n",
    "    fig = new_figure()\n",
    "    display(fig)\n",
    "    start = time.time()\n",
    "    result = v.sql(query)\n",
    "    if len(result.columns) == 1:\n",
    "        display(result)\n",
    "    else:\n",
    "        updateFigure(fig, result)\n",
    "    print(f\"elapsed time: {time.time() - start} seconds.\")\n",
    "    \n",
    "def presto_sql(query):\n",
    "    sql(\"bypass \" + query)\n",
    "\n",
    "def sql_stream(query):\n",
    "    fig = new_figure()\n",
    "    display(fig)\n",
    "    result_itr = v.sql_stream(query)\n",
    "    for i, result in enumerate(result_itr):\n",
    "        if i < 5:\n",
    "            if len(result.columns) == 1:\n",
    "                display(result)\n",
    "            else:\n",
    "                updateFigure(fig, result)\n",
    "                time.sleep(0.1)\n",
    "        else:\n",
    "            break\n"
   ]
  },
  {
   "cell_type": "code",
   "execution_count": 4,
   "metadata": {},
   "outputs": [
    {
     "data": {
      "application/vnd.jupyter.widget-view+json": {
       "model_id": "c971b40d2abe48fb8682abfd7776edbd",
       "version_major": 2,
       "version_minor": 0
      },
      "text/plain": [
       "FigureWidget({\n",
       "    'data': [{'type': 'bar', 'uid': 'bcf5d5d6-0b22-437e-9a8d-45af297b2ea0'}], 'layout': {'templ…"
      ]
     },
     "metadata": {},
     "output_type": "display_data"
    }
   ],
   "source": [
    "sql_stream(\"\"\"\\\n",
    "SELECT ship_year, ship_month, count(*)\n",
    "FROM (\n",
    "    SELECT year(l_shipdate) AS ship_year, month(l_shipdate) AS ship_month\n",
    "    FROM hive.tpch_sf100.lineitem\n",
    ")\n",
    "GROUP BY ship_year, ship_month\n",
    "ORDER BY ship_year, ship_month\n",
    "\"\"\")"
   ]
  },
  {
   "cell_type": "code",
   "execution_count": null,
   "metadata": {},
   "outputs": [],
   "source": []
  },
  {
   "cell_type": "code",
   "execution_count": null,
   "metadata": {},
   "outputs": [],
   "source": []
  }
 ],
 "metadata": {
  "kernelspec": {
   "display_name": "Python 3",
   "language": "python",
   "name": "python3"
  },
  "language_info": {
   "codemirror_mode": {
    "name": "ipython",
    "version": 3
   },
   "file_extension": ".py",
   "mimetype": "text/x-python",
   "name": "python",
   "nbconvert_exporter": "python",
   "pygments_lexer": "ipython3",
   "version": "3.7.3"
  }
 },
 "nbformat": 4,
 "nbformat_minor": 4
}
