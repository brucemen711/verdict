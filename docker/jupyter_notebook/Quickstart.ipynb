{
 "cells": [
  {
   "cell_type": "code",
   "execution_count": 63,
   "metadata": {},
   "outputs": [
    {
     "name": "stdout",
     "output_type": "stream",
     "text": [
      "0.0.9\n"
     ]
    }
   ],
   "source": [
    "import keebo\n",
    "import plotly.graph_objects as go\n",
    "import pandas as pd\n",
    "import threading\n",
    "from IPython.display import display\n",
    "import ipywidgets as widgets\n",
    "import time\n",
    "import sys\n",
    "\n",
    "keebo.set_loglevel('error')\n",
    "k = keebo.presto('localhost:7878', 'presto')\n",
    "print(keebo.version())"
   ]
  },
  {
   "cell_type": "markdown",
   "metadata": {},
   "source": [
    "# 1. The Number of Items Sold over Time"
   ]
  },
  {
   "cell_type": "code",
   "execution_count": 64,
   "metadata": {},
   "outputs": [],
   "source": [
    "fig = go.FigureWidget(data=go.Bar())\n",
    "\n",
    "def updateFigure(x, y):\n",
    "#     assert len(x) == len(y)\n",
    "    fig.data[0].x = x\n",
    "    fig.data[0].y = y\n",
    "    \n",
    "def run_query1():\n",
    "    itr = k.sql_stream(\"\"\"\n",
    "        SELECT shipyear, shipmonth, count(*) as c\n",
    "        FROM (\n",
    "            SELECT year(l_shipdate) shipyear, month(l_shipdate) shipmonth\n",
    "            FROM hive.tpch_sf100.lineitem_premerged\n",
    "        ) t\n",
    "        GROUP BY shipyear, shipmonth\n",
    "        ORDER BY shipyear, shipmonth\n",
    "    \"\"\")\n",
    "                       \n",
    "    for i, res in enumerate(itr):\n",
    "        if i < 10:\n",
    "            updateFigure(x=res.index, y=res['c'])\n",
    "            time.sleep(0.1)\n",
    "        else:\n",
    "            break"
   ]
  },
  {
   "cell_type": "code",
   "execution_count": 20,
   "metadata": {
    "jupyter": {
     "source_hidden": true
    }
   },
   "outputs": [
    {
     "name": "stdout",
     "output_type": "stream",
     "text": [
      "Regular Presto took 20.080857753753662 secs\n"
     ]
    }
   ],
   "source": [
    "start = time.time()\n",
    "res = k.sql('''\\\n",
    "BYPASS SELECT shipyear, shipmonth, count(*) as c\n",
    "FROM (\n",
    "    SELECT year(l_shipdate) shipyear, month(l_shipdate) shipmonth\n",
    "    FROM hive.tpch_sf100.lineitem_premerged\n",
    ") t\n",
    "GROUP BY shipyear, shipmonth\n",
    "ORDER BY shipyear, shipmonth\n",
    "''')\n",
    "print(f'Regular Presto took {time.time() - start} secs')"
   ]
  },
  {
   "cell_type": "code",
   "execution_count": 65,
   "metadata": {},
   "outputs": [
    {
     "data": {
      "application/vnd.jupyter.widget-view+json": {
       "model_id": "23f3dde416144b97995dfc07bd20a99b",
       "version_major": 2,
       "version_minor": 0
      },
      "text/plain": [
       "FigureWidget({\n",
       "    'data': [{'type': 'bar', 'uid': '3ccef79c-0379-4af4-ae98-f57f1d90b71e'}], 'layout': {'templ…"
      ]
     },
     "metadata": {},
     "output_type": "display_data"
    }
   ],
   "source": [
    "fig"
   ]
  },
  {
   "cell_type": "code",
   "execution_count": 66,
   "metadata": {},
   "outputs": [
    {
     "name": "stdout",
     "output_type": "stream",
     "text": [
      "client stream_id: stream0e5a4f48\n"
     ]
    }
   ],
   "source": [
    "run_query1()"
   ]
  },
  {
   "cell_type": "markdown",
   "metadata": {},
   "source": [
    "# 2. Their price distribution"
   ]
  },
  {
   "cell_type": "code",
   "execution_count": 67,
   "metadata": {},
   "outputs": [],
   "source": [
    "fig2 = go.FigureWidget(data=go.Bar())\n",
    "\n",
    "def updateFigure2(x, y):\n",
    "    assert len(x) == len(y)\n",
    "    fig2.data[0].x = x\n",
    "    fig2.data[0].y = y\n",
    "    \n",
    "def run_query2():\n",
    "    itr = k.sql_stream(\"\"\"\n",
    "        SELECT price, count(*) c\n",
    "        FROM (\n",
    "            SELECT round(l_extendedprice / 1000) * 1000 price\n",
    "            FROM hive.tpch_sf100.lineitem_premerged\n",
    "        ) t\n",
    "        GROUP BY price\n",
    "        ORDER BY price\n",
    "    \"\"\")\n",
    "\n",
    "    for i, res in enumerate(itr):\n",
    "        if i < 10:\n",
    "            updateFigure2(x=res['price'], y=res['c'])\n",
    "            time.sleep(0.1)\n",
    "        else:\n",
    "            break"
   ]
  },
  {
   "cell_type": "code",
   "execution_count": 68,
   "metadata": {},
   "outputs": [
    {
     "data": {
      "application/vnd.jupyter.widget-view+json": {
       "model_id": "3bdf54bec8594f758455e198ca51fda4",
       "version_major": 2,
       "version_minor": 0
      },
      "text/plain": [
       "FigureWidget({\n",
       "    'data': [{'type': 'bar', 'uid': 'b08d7ff8-4794-456c-b38c-445b5cfda0a0'}], 'layout': {'templ…"
      ]
     },
     "metadata": {},
     "output_type": "display_data"
    }
   ],
   "source": [
    "fig2"
   ]
  },
  {
   "cell_type": "code",
   "execution_count": 61,
   "metadata": {},
   "outputs": [
    {
     "name": "stdout",
     "output_type": "stream",
     "text": [
      "Regular Presto took 20.087167263031006 secs\n"
     ]
    }
   ],
   "source": [
    "start = time.time()\n",
    "res = k.sql('''\\\n",
    "BYPASS SELECT price, count(*) c\n",
    "FROM (\n",
    "    SELECT round(l_extendedprice / 1000) * 1000 price\n",
    "    FROM hive.tpch_sf100.lineitem_premerged\n",
    ") t\n",
    "GROUP BY price\n",
    "ORDER BY price\n",
    "''')\n",
    "print(f'Regular Presto took {time.time() - start} secs')"
   ]
  },
  {
   "cell_type": "code",
   "execution_count": 69,
   "metadata": {},
   "outputs": [
    {
     "name": "stdout",
     "output_type": "stream",
     "text": [
      "client stream_id: stream8c248bde\n"
     ]
    }
   ],
   "source": [
    "run_query2()"
   ]
  },
  {
   "cell_type": "code",
   "execution_count": null,
   "metadata": {},
   "outputs": [],
   "source": []
  }
 ],
 "metadata": {
  "kernelspec": {
   "display_name": "Python 3",
   "language": "python",
   "name": "python3"
  },
  "language_info": {
   "codemirror_mode": {
    "name": "ipython",
    "version": 3
   },
   "file_extension": ".py",
   "mimetype": "text/x-python",
   "name": "python",
   "nbconvert_exporter": "python",
   "pygments_lexer": "ipython3",
   "version": "3.7.3"
  }
 },
 "nbformat": 4,
 "nbformat_minor": 4
}
